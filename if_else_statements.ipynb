{
  "nbformat": 4,
  "nbformat_minor": 0,
  "metadata": {
    "colab": {
      "provenance": [],
      "authorship_tag": "ABX9TyPaH42bnrxKDb8f32AgpnlZ",
      "include_colab_link": true
    },
    "kernelspec": {
      "name": "python3",
      "display_name": "Python 3"
    },
    "language_info": {
      "name": "python"
    }
  },
  "cells": [
    {
      "cell_type": "markdown",
      "metadata": {
        "id": "view-in-github",
        "colab_type": "text"
      },
      "source": [
        "<a href=\"https://colab.research.google.com/github/AnkitFw/heyhai/blob/main/if_else_statements.ipynb\" target=\"_parent\"><img src=\"https://colab.research.google.com/assets/colab-badge.svg\" alt=\"Open In Colab\"/></a>"
      ]
    },
    {
      "cell_type": "code",
      "execution_count": 2,
      "metadata": {
        "colab": {
          "base_uri": "https://localhost:8080/"
        },
        "id": "eqH6hjugJmVn",
        "outputId": "f660b62f-f7e6-46ea-debe-94dbb6bc95f2"
      },
      "outputs": [
        {
          "output_type": "stream",
          "name": "stdout",
          "text": [
            "Not Allow\n"
          ]
        }
      ],
      "source": [
        "age = 14;\n",
        "if(age>18):\n",
        "    print(\"Allow to vote\")\n",
        "else:\n",
        "    print(\"Not Allow\")\n"
      ]
    },
    {
      "cell_type": "code",
      "source": [
        "height = int(input(\"Enter height in feet\"))\n",
        "if(height>3):\n",
        "  print(\"Buy token\")\n",
        "  print(\"Now,you can board to metro\")\n",
        "\n",
        "print(\"Not in if\")\n",
        "#else:\n",
        " # print(\"No token required\")\n"
      ],
      "metadata": {
        "colab": {
          "base_uri": "https://localhost:8080/"
        },
        "id": "NcebnQSHLn-7",
        "outputId": "b1ee1469-0630-4dcc-ce16-10439bf6d7c4"
      },
      "execution_count": 10,
      "outputs": [
        {
          "output_type": "stream",
          "name": "stdout",
          "text": [
            "Enter height in feet2\n",
            "Not in if\n"
          ]
        }
      ]
    },
    {
      "cell_type": "code",
      "source": [],
      "metadata": {
        "id": "2N8JCDnQMbgR"
      },
      "execution_count": null,
      "outputs": []
    }
  ]
}